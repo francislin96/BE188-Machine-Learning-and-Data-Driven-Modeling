{
 "cells": [
  {
   "cell_type": "markdown",
   "metadata": {},
   "source": [
    "# Lab 1 - Introduction\n",
    "We will cover certain aspects of python programming and specific packages throughout the course. However, at the end of these tutorials, you should be comfortable with the exercises below."
   ]
  },
  {
   "cell_type": "markdown",
   "metadata": {},
   "source": [
    "### (0) Import the necessary packages"
   ]
  },
  {
   "cell_type": "code",
   "execution_count": 1,
   "metadata": {
    "collapsed": true
   },
   "outputs": [],
   "source": [
    "%matplotlib inline\n",
    "import numpy as np\n",
    "import matplotlib.pyplot as plt\n",
    "from sklearn.datasets import load_boston"
   ]
  },
  {
   "cell_type": "markdown",
   "metadata": {},
   "source": [
    "### (1) Write a function that stores the first 100 numbers of the fibonnaci sequence in a numpy array.\n",
    "\n",
    "Then write two assertions as tests of your function."
   ]
  },
  {
   "cell_type": "code",
   "execution_count": 2,
   "metadata": {
    "collapsed": true
   },
   "outputs": [],
   "source": [
    "def createFib100():\n",
    "    '''\n",
    "    Stores the first 100 numbers of the fibonnaci sequence in a np array\n",
    "    '''\n",
    "    fibSeq = np.zeros(100)\n",
    "    fibSeq[0] = 1\n",
    "    fibSeq[1] = 1\n",
    "    for i in range(2, 100):\n",
    "        fibSeq[i] = fibSeq[i-1] + fibSeq[i-2]\n",
    "    return fibSeq\n",
    "\n",
    "# assertions\n",
    "fib = createFib100()\n",
    "assert(fib[30-1] == 832040)            # check 30th number\n",
    "assert(fib[75-1] == 2111485077978050)  # check 75th number"
   ]
  },
  {
   "cell_type": "markdown",
   "metadata": {},
   "source": [
    "### (2) Plot the selected data from the Boston home price dataset, labeling the X and Y axes."
   ]
  },
  {
   "cell_type": "code",
   "execution_count": 3,
   "metadata": {},
   "outputs": [
    {
     "data": {
      "image/png": "[encoded data removed]",
      "text/plain": [
       "<matplotlib.figure.Figure at 0x19fa09ce940>"
      ]
     },
     "metadata": {},
     "output_type": "display_data"
    }
   ],
   "source": [
    "boston = load_boston()\n",
    "\n",
    "y = boston.target\n",
    "x = boston.data[:, 0]\n",
    "\n",
    "# plot\n",
    "plt.scatter(x,y)\n",
    "plt.xlabel('Crime')\n",
    "plt.ylabel('Home Prices')\n",
    "plt.show()"
   ]
  },
  {
   "cell_type": "markdown",
   "metadata": {},
   "source": [
    "### (3) Write a function that satisfies the assertions below."
   ]
  },
  {
   "cell_type": "code",
   "execution_count": 4,
   "metadata": {
    "collapsed": true
   },
   "outputs": [],
   "source": [
    "def func(x, y):\n",
    "    return x + y*2"
   ]
  },
  {
   "cell_type": "code",
   "execution_count": 5,
   "metadata": {
    "collapsed": true
   },
   "outputs": [],
   "source": [
    "assert(func(0, 20) == 40)\n",
    "assert(func(1, 10) == 21)\n",
    "assert(func(2, 5) == 12)\n",
    "assert(func(3, 2) == 7)\n",
    "assert(func(4, 1) == 6)"
   ]
  }
 ],
 "metadata": {
  "kernelspec": {
   "display_name": "Python 3",
   "language": "python",
   "name": "python3"
  },
  "language_info": {
   "codemirror_mode": {
    "name": "ipython",
    "version": 3
   },
   "file_extension": ".py",
   "mimetype": "text/x-python",
   "name": "python",
   "nbconvert_exporter": "python",
   "pygments_lexer": "ipython3",
   "version": "3.6.0"
  }
 },
 "nbformat": 4,
 "nbformat_minor": 2
}
